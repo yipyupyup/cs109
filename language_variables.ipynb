{
 "metadata": {
  "name": ""
 },
 "nbformat": 3,
 "nbformat_minor": 0,
 "worksheets": [
  {
   "cells": [
    {
     "cell_type": "code",
     "collapsed": false,
     "input": [
      "import numpy as np\n",
      "import re\n",
      "import pandas as pd\n",
      "import matplotlib.pyplot as plt\n",
      "import dateutil\n",
      "%matplotlib inline\n",
      "pd.set_option('display.width',500)\n",
      "pd.set_option('display.max_columns',100)\n",
      "from scipy.stats.stats import pearsonr\n",
      "import os\n",
      "import string\n",
      "from os import listdir\n",
      "from os.path import isfile, join\n",
      "import nltk\n",
      "# nltk.download() enter d, then wordnet\n",
      "import nltk.tokenize as tok\n",
      "from nltk.corpus import wordnet as wn\n",
      "from nltk.corpus import stopwords as stop\n",
      "import readabilitytests as rt\n",
      "import math\n",
      "nltk.data.load('tokenizers/punkt/english.pickle')"
     ],
     "language": "python",
     "metadata": {},
     "outputs": [
      {
       "metadata": {},
       "output_type": "pyout",
       "prompt_number": 7,
       "text": [
        "<nltk.tokenize.punkt.PunktSentenceTokenizer at 0x10bfb3790>"
       ]
      }
     ],
     "prompt_number": 7
    },
    {
     "cell_type": "code",
     "collapsed": false,
     "input": [
      "d = pd.read_csv(\"marcus/all_tweets5.csv\", index_col=0, parse_dates=[0])\n",
      "# d = pd.read_csv(\"marcus/geo_tweets.csv\")"
     ],
     "language": "python",
     "metadata": {},
     "outputs": [],
     "prompt_number": 5
    },
    {
     "cell_type": "code",
     "collapsed": false,
     "input": [
      "d.dropna()\n",
      "dates = []\n",
      "for x in d.index:\n",
      "    try:\n",
      "        dates.append(dateutil.parser.parse(str(x)))\n",
      "    except:\n",
      "        print x"
     ],
     "language": "python",
     "metadata": {},
     "outputs": [
      {
       "output_type": "stream",
       "stream": "stdout",
       "text": [
        "nan\n"
       ]
      }
     ],
     "prompt_number": 6
    },
    {
     "cell_type": "code",
     "collapsed": false,
     "input": [
      "i = re.compile(r'\\bi\\b', re.IGNORECASE)\n",
      "you = re.compile(r'\\byou\\b', re.IGNORECASE)\n",
      "your = re.compile(r'\\byour\\b', re.IGNORECASE)\n",
      "we = re.compile(r'\\bwe\\b', re.IGNORECASE)\n",
      "my = re.compile(r'\\bmy\\b', re.IGNORECASE)\n",
      "our = re.compile(r'\\bour\\b', re.IGNORECASE)\n",
      "me = re.compile(r'\\bme\\b', re.IGNORECASE)\n",
      "us = re.compile(r'\\bus\\b', re.IGNORECASE)\n",
      "they = re.compile(r'\\bthey\\b', re.IGNORECASE)\n",
      "them = re.compile(r'\\bthem\\b', re.IGNORECASE)\n",
      "their = re.compile(r'\\btheir\\b', re.IGNORECASE)\n",
      "him = re.compile(r'\\bhim\\b', re.IGNORECASE)\n",
      "he = re.compile(r'\\bhe\\b', re.IGNORECASE)\n",
      "his = re.compile(r'\\bhis\\b', re.IGNORECASE)\n",
      "she = re.compile(r'\\bshe\\b', re.IGNORECASE)\n",
      "her = re.compile(r'\\bher\\b', re.IGNORECASE)\n",
      "\n",
      "\n",
      "d['word_count'] = [len(str(x).split()) for x in d.text]\n",
      "d['i_count'] = [len(re.findall(i, x)) for x in d.text]\n",
      "d['you_count'] = [len(re.findall(you, x)) for x in d.text]\n",
      "d['your_count'] = [len(re.findall(your, x)) for x in d.text]\n",
      "d['we_count'] = [len(re.findall(we, x)) for x in d.text]\n",
      "d['my_count'] = [len(re.findall(my, x)) for x in d.text]\n",
      "d['our_count'] = [len(re.findall(our, x)) for x in d.text]\n",
      "d['me_count'] = [len(re.findall(me, x)) for x in d.text]\n",
      "d['us_count'] = [len(re.findall(us, x)) for x in d.text]\n",
      "d['they_count'] = [len(re.findall(they, x)) for x in d.text]\n",
      "d['them_count'] = [len(re.findall(them, x)) for x in d.text]\n",
      "d['their_count'] = [len(re.findall(their, x)) for x in d.text]\n",
      "d['she_count'] = [len(re.findall(she, x)) for x in d.text]\n",
      "d['her_count'] = [len(re.findall(her, x)) for x in d.text]\n",
      "d['he_count'] = [len(re.findall(he, x)) for x in d.text]\n",
      "d['him_count'] = [len(re.findall(him, x)) for x in d.text]\n",
      "d['his_count'] = [len(re.findall(him, x)) for x in d.text]\n",
      "\n",
      "d['tpp_count'] = d['their_count'] + d['they_count'] + d['them_count'] + d['him_count'] + d['his_count'] + d['her_count'] + d['he_count'] + d['she_count']\n",
      "d['fpp_count'] = d['i_count'] + d['me_count'] + d['my_count'] + d['we_count'] + d['us_count'] + d['our_count']\n",
      "d['spp_count'] = d['you_count'] + d['your_count']"
     ],
     "language": "python",
     "metadata": {},
     "outputs": [],
     "prompt_number": 10
    },
    {
     "cell_type": "heading",
     "level": 1,
     "metadata": {},
     "source": [
      "Wordnet analyses"
     ]
    },
    {
     "cell_type": "heading",
     "level": 2,
     "metadata": {},
     "source": [
      "Set up variables..."
     ]
    },
    {
     "cell_type": "code",
     "collapsed": false,
     "input": [
      "# person nouns - NN\n",
      "body = wn.synsets(\"body\")[0]\n",
      "person = wn.synsets(\"person\")[0]\n",
      "human = wn.synsets(\"human\")[0]\n",
      "\n",
      "# person verbs - NN\n",
      "act = wn.synsets(\"act\")[5]\n",
      "\n",
      "# mental nouns - NN\n",
      "mind = wn.synsets(\"mind\")[0]\n",
      "thought = wn.synsets(\"thought\")[1]\n",
      "thought2 = wn.synsets(\"thought\")[0]\n",
      "feeling = wn.synsets(\"feeling\")[0]\n",
      "feeling2 = wn.synsets(\"feeling\")[1]\n",
      "emotion = wn.synsets(\"emotion\")[0]\n",
      "belief = wn.synsets(\"belief\")[0]\n",
      "\n",
      "# mental verbs - V\n",
      "think = wn.synsets(\"think\")[3]\n",
      "think2 = wn.synsets(\"think\")[1]\n",
      "feel = wn.synsets(\"feel\")[4]\n",
      "feel2 = wn.synsets(\"feel\")[7]\n",
      "understand = wn.synsets(\"understand\")[3]\n",
      "imagine = wn.synsets(\"imagine\")[0]\n",
      "imagine2 = wn.synsets(\"imagine\")[1]\n",
      "\n",
      "# social verbs - V\n",
      "cooperate = wn.synsets(\"cooperate\")[0]\n",
      "communicate = wn.synsets(\"communicate\")[4]\n",
      "speak = wn.synsets(\"speak\")[1]\n",
      "empathize = wn.synsets(\"empathize\")[0]\n",
      "share = wn.synsets(\"share\")[6]\n",
      "socialize = wn.synsets(\"socialize\")[0]\n",
      "exchange = wn.synsets(\"exchange\")[11]\n",
      "bond = wn.synsets(\"bind\")[2]\n",
      "\n",
      "# social nouns - N\n",
      "conversation = wn.synsets(\"conversation\")[0]\n",
      "community = wn.synsets(\"community\")[0]\n",
      "friend = wn.synsets(\"friend\")[0]\n",
      "\n",
      "\n",
      "# neutral nouns:\n",
      "shape = wn.synsets(\"shape\")[0]\n",
      "place = wn.synsets(\"place\")[0]\n",
      "color = wn.synsets(\"color\")[0]\n",
      "direction = wn.synsets(\"direction\")[1]\n",
      "\n",
      "# neutral verbs:\n",
      "displace = wn.synsets(\"displace\")[0]\n",
      "grow = wn.synsets(\"grow\")[1]\n",
      "shrink = wn.synsets(\"shrink\")[3]\n",
      "split = wn.synsets(\"split\")[11]\n",
      "comprise = wn.synsets(\"comprise\")[0]\n",
      "happen = wn.synsets(\"happen\")[0]\n",
      "\n",
      "# valence nouns:\n",
      "good = wn.synsets(\"good\")[2]\n",
      "bad = wn.synsets(\"bad\")[0]\n",
      "negative = wn.synsets(\"negative\")[0]\n",
      "positive = wn.synsets(\"positive\")[0]\n",
      "\n",
      "# emotion verbs:\n",
      "cry = wn.synsets(\"cry\")[6]\n",
      "smile = wn.synsets(\"smile\")[1]\n",
      "fear = wn.synsets(\"fear\")[4]\n",
      "enrage = wn.synsets(\"enrage\")[0]\n",
      "enjoy = wn.synsets(\"enjoy\")[0]\n",
      "disgust = wn.synsets(\"disgust\")[1]\n",
      "surprise = wn.synsets(\"surprise\")[3]\n",
      "envy = wn.synsets(\"envy\")[2]\n",
      "hurt = wn.synsets(\"hurt\")[5]\n",
      "love = wn.synsets(\"love\")[6]\n",
      "pity = wn.synsets(\"pity\")[3]\n",
      "\n",
      "# all word groups\n",
      "mentalnouns = [mind, thought, thought2, feeling, feeling2, emotion, belief]\n",
      "mentalverbs = [think, think2, feel, feel2, understand, imagine, imagine2]\n",
      "socialverbs = [cooperate, communicate, speak, empathize, share, socialize, exchange, bond]\n",
      "socialnouns = [conversation, community, friend]\n",
      "neutralnouns = [shape, place, color, direction]\n",
      "neutralverbs = [displace, grow, shrink, split, comprise, happen]\n",
      "valencenouns = [good, bad, negative, positive]\n",
      "emotionverbs = [cry, smile, fear, enrage, enjoy, disgust, surprise, envy, hurt, love, pity]\n",
      "personnouns = [body,person,human]\n",
      "personverbs = [act]\n",
      "\n",
      "\n",
      "\n",
      "swe = stop.words(\"english\")"
     ],
     "language": "python",
     "metadata": {},
     "outputs": [],
     "prompt_number": 11
    },
    {
     "cell_type": "code",
     "collapsed": false,
     "input": [
      "# Creating space for all the scores\n",
      "personnounscore = []\n",
      "personverbscore = []\n",
      "mentnounscore = []\n",
      "valencenounscore = []\n",
      "mentverbscore = []\n",
      "socverbscore = []\n",
      "socnounscore = []\n",
      "neutnounscore = []\n",
      "neutverbscore = []\n",
      "emotionverbscore = []\n",
      "\n",
      "# run this shit\n",
      "\n",
      "tweetnum = 0\n",
      "nums = range(0,len(d['text']),1000)\n",
      "for text in d['text']:\n",
      "    tweetnum += 1\n",
      "    if tweetnum in nums:\n",
      "        print 'tweet num: ', str(tweetnum), ' of ', str(len(d['tokens']))\n",
      "    if text == text:\n",
      "        #text = tweet.replace(\"|\",\" \")\n",
      "        \n",
      "        novsen = tok.sent_tokenize(text)\n",
      "        novwrd = []\n",
      "        for sen in novsen:\n",
      "            novwrd += tok.word_tokenize(sen)\n",
      "        novwrd = [w.lower() for w in novwrd]\n",
      "        novwrd = [w for w in novwrd if not w in swe]\n",
      "        novwrd = [w for w in novwrd if not w in string.punctuation + \"``\" + \"--\"]\n",
      "        \n",
      "        # Declaring buffers for each section    \n",
      "        personnounbuf = []\n",
      "        personverbbuf = []\n",
      "        mentnounbuf = []\n",
      "        valencenounbuf = []\n",
      "        mentverbbuf = []\n",
      "        socverbbuf = []\n",
      "        socnounbuf = []\n",
      "        neutnounbuf = []\n",
      "        neutverbbuf = []\n",
      "        emotionverbbuf = []    \n",
      "        \n",
      "        for w in novwrd:\n",
      "            syn = wn.synsets(w)\n",
      "            if syn == []:\n",
      "                pass\n",
      "            else:\n",
      "                ratio = 0.\n",
      "                    \n",
      "                personnounsim = []\n",
      "                mentnounsim = []\n",
      "                neutnounsim = []\n",
      "                valencenounsim = []\n",
      "                socnounsim = []\n",
      "                    \n",
      "                personverbsim = []\n",
      "                mentverbsim = []\n",
      "                socverbsim = []\n",
      "                neutverbsim = []\n",
      "                emotionverbsim = []\n",
      "                    \n",
      "                valenceadjsim = []\n",
      "                    \n",
      "                for s in syn:\n",
      "                    if s.pos == \"n\":\n",
      "                        for j in personnouns:\n",
      "                            personnounsim.append(j.lch_similarity(s))\n",
      "                        for j in mentalnouns:\n",
      "                            mentnounsim.append(j.lch_similarity(s))\n",
      "                        for j in neutralnouns:\n",
      "                            neutnounsim.append(j.lch_similarity(s))\n",
      "                        for j in valencenouns:\n",
      "                            valencenounsim.append(j.lch_similarity(s))\n",
      "                        for j in socialnouns:\n",
      "                            socnounsim.append(j.lch_similarity(s))\n",
      "                           \n",
      "                    elif s.pos == \"v\":\n",
      "                        for j in personverbs:\n",
      "                            personverbsim.append(j.lch_similarity(s))\n",
      "                        for j in mentalverbs:\n",
      "                            mentverbsim.append(j.lch_similarity(s))\n",
      "                        for j in socialverbs:\n",
      "                            socverbsim.append(j.lch_similarity(s))\n",
      "                        for j in neutralverbs:\n",
      "                            neutverbsim.append(j.lch_similarity(s))\n",
      "                        for j in emotionverbs:\n",
      "                            emotionverbsim.append(j.lch_similarity(s))\n",
      "                                \n",
      "                            \n",
      "                if not personnounsim == []:\n",
      "                    personnounbuf.append(np.mean(personnounsim))\n",
      "                if not mentnounsim == []:\n",
      "                    mentnounbuf.append(np.mean(mentnounsim))\n",
      "                if not neutnounsim == []:\n",
      "                    neutnounbuf.append(np.mean(neutnounsim))\n",
      "                if not valencenounsim == []:\n",
      "                    valencenounbuf.append(np.mean(valencenounsim))\n",
      "                if not socnounsim == []:\n",
      "                    socnounbuf.append(np.mean(socnounsim))\n",
      "                            \n",
      "                if not personverbsim == []:\n",
      "                    personverbbuf.append(np.mean(personverbsim))\n",
      "                if not mentverbsim == []:\n",
      "                    mentverbbuf.append(np.mean(mentverbsim))\n",
      "                if not socverbsim == []:\n",
      "                    socverbbuf.append(np.mean(socverbsim))\n",
      "                if not neutverbsim == []:\n",
      "                    neutverbbuf.append(np.mean(neutverbsim))\n",
      "                if not emotionverbsim == []:\n",
      "                    emotionverbbuf.append(np.mean(emotionverbsim))\n",
      "                        \n",
      "        \n",
      "           \n",
      "            # Scores for output:\n",
      "        personnounscore.append(np.mean(personnounbuf))\n",
      "        personverbscore.append(np.mean(personverbbuf))\n",
      "        mentnounscore.append(np.mean(mentnounbuf))\n",
      "        valencenounscore.append(np.mean(valencenounbuf))\n",
      "        mentverbscore.append(np.mean(mentverbbuf))\n",
      "        socverbscore.append(np.mean(socverbbuf))\n",
      "        socnounscore.append(np.mean(socnounbuf))\n",
      "        neutnounscore.append(np.mean(neutnounbuf))\n",
      "        neutverbscore.append(np.mean(neutverbbuf))\n",
      "        emotionverbscore.append(np.mean(emotionverbbuf))\n",
      "    \n",
      "    else:\n",
      "        print 'BADDDDD tweet: ', str(tweetnum)\n",
      "        personnounscore.append('NaN')\n",
      "        personverbscore.append('NaN')\n",
      "        mentnounscore.append('NaN')\n",
      "        valencenounscore.append('NaN')\n",
      "        mentverbscore.append('NaN')\n",
      "        socverbscore.append('NaN')\n",
      "        socnounscore.append('NaN')\n",
      "        neutnounscore.append('NaN')\n",
      "        neutverbscore.append('NaN')\n",
      "        emotionverbscore.append('NaN')\n",
      "\n"
     ],
     "language": "python",
     "metadata": {},
     "outputs": [
      {
       "output_type": "stream",
       "stream": "stdout",
       "text": [
        "tweet num:  1000  of  282315\n",
        "tweet num: "
       ]
      },
      {
       "output_type": "stream",
       "stream": "stdout",
       "text": [
        " 2000  of  282315\n",
        "tweet num: "
       ]
      },
      {
       "output_type": "stream",
       "stream": "stdout",
       "text": [
        " 3000  of  282315\n",
        "tweet num: "
       ]
      },
      {
       "output_type": "stream",
       "stream": "stdout",
       "text": [
        " 4000  of  282315\n",
        "tweet num: "
       ]
      },
      {
       "output_type": "stream",
       "stream": "stdout",
       "text": [
        " 5000  of  282315\n",
        "tweet num: "
       ]
      },
      {
       "output_type": "stream",
       "stream": "stdout",
       "text": [
        " 6000  of  282315\n",
        "tweet num: "
       ]
      },
      {
       "output_type": "stream",
       "stream": "stdout",
       "text": [
        " 7000  of  282315\n",
        "tweet num: "
       ]
      },
      {
       "output_type": "stream",
       "stream": "stdout",
       "text": [
        " 8000  of  282315\n",
        "tweet num: "
       ]
      },
      {
       "output_type": "stream",
       "stream": "stdout",
       "text": [
        " 9000  of  282315\n",
        "tweet num: "
       ]
      },
      {
       "output_type": "stream",
       "stream": "stdout",
       "text": [
        " 10000  of  282315\n",
        "tweet num: "
       ]
      },
      {
       "output_type": "stream",
       "stream": "stdout",
       "text": [
        " 11000  of  282315\n",
        "tweet num: "
       ]
      },
      {
       "output_type": "stream",
       "stream": "stdout",
       "text": [
        " 12000  of  282315\n",
        "tweet num: "
       ]
      },
      {
       "output_type": "stream",
       "stream": "stdout",
       "text": [
        " 13000  of  282315\n",
        "tweet num: "
       ]
      },
      {
       "output_type": "stream",
       "stream": "stdout",
       "text": [
        " 14000  of  282315\n",
        "tweet num: "
       ]
      },
      {
       "output_type": "stream",
       "stream": "stdout",
       "text": [
        " 15000  of  282315\n",
        "tweet num: "
       ]
      },
      {
       "output_type": "stream",
       "stream": "stdout",
       "text": [
        " 16000  of  282315\n",
        "tweet num: "
       ]
      },
      {
       "output_type": "stream",
       "stream": "stdout",
       "text": [
        " 17000  of  282315\n",
        "tweet num: "
       ]
      },
      {
       "output_type": "stream",
       "stream": "stdout",
       "text": [
        " 18000  of  282315\n",
        "tweet num: "
       ]
      },
      {
       "output_type": "stream",
       "stream": "stdout",
       "text": [
        " 19000  of  282315\n",
        "tweet num: "
       ]
      },
      {
       "output_type": "stream",
       "stream": "stdout",
       "text": [
        " 20000  of  282315\n",
        "tweet num: "
       ]
      },
      {
       "output_type": "stream",
       "stream": "stdout",
       "text": [
        " 21000  of  282315\n",
        "tweet num: "
       ]
      },
      {
       "output_type": "stream",
       "stream": "stdout",
       "text": [
        " 22000  of  282315\n",
        "tweet num: "
       ]
      },
      {
       "output_type": "stream",
       "stream": "stdout",
       "text": [
        " 23000  of  282315\n",
        "tweet num: "
       ]
      },
      {
       "output_type": "stream",
       "stream": "stdout",
       "text": [
        " 24000  of  282315\n",
        "tweet num: "
       ]
      },
      {
       "output_type": "stream",
       "stream": "stdout",
       "text": [
        " 25000  of  282315\n",
        "tweet num: "
       ]
      },
      {
       "output_type": "stream",
       "stream": "stdout",
       "text": [
        " 26000  of  282315\n",
        "tweet num: "
       ]
      },
      {
       "output_type": "stream",
       "stream": "stdout",
       "text": [
        " 27000  of  282315\n",
        "tweet num: "
       ]
      },
      {
       "output_type": "stream",
       "stream": "stdout",
       "text": [
        " 28000  of  282315\n",
        "tweet num: "
       ]
      },
      {
       "output_type": "stream",
       "stream": "stdout",
       "text": [
        " 29000  of  282315\n",
        "tweet num: "
       ]
      },
      {
       "output_type": "stream",
       "stream": "stdout",
       "text": [
        " 30000  of  282315\n",
        "tweet num: "
       ]
      },
      {
       "output_type": "stream",
       "stream": "stdout",
       "text": [
        " 31000  of  282315\n",
        "tweet num: "
       ]
      },
      {
       "output_type": "stream",
       "stream": "stdout",
       "text": [
        " 32000  of  282315\n",
        "tweet num: "
       ]
      },
      {
       "output_type": "stream",
       "stream": "stdout",
       "text": [
        " 33000  of  282315\n",
        "tweet num: "
       ]
      },
      {
       "output_type": "stream",
       "stream": "stdout",
       "text": [
        " 34000  of  282315\n",
        "tweet num: "
       ]
      },
      {
       "output_type": "stream",
       "stream": "stdout",
       "text": [
        " 35000  of  282315\n",
        "tweet num: "
       ]
      },
      {
       "output_type": "stream",
       "stream": "stdout",
       "text": [
        " 36000  of  282315\n",
        "tweet num: "
       ]
      },
      {
       "output_type": "stream",
       "stream": "stdout",
       "text": [
        " 37000  of  282315\n",
        "tweet num: "
       ]
      },
      {
       "output_type": "stream",
       "stream": "stdout",
       "text": [
        " 38000  of  282315\n",
        "tweet num: "
       ]
      },
      {
       "output_type": "stream",
       "stream": "stdout",
       "text": [
        " 39000  of  282315\n",
        "tweet num: "
       ]
      },
      {
       "output_type": "stream",
       "stream": "stdout",
       "text": [
        " 40000  of  282315\n",
        "tweet num: "
       ]
      },
      {
       "output_type": "stream",
       "stream": "stdout",
       "text": [
        " 41000  of  282315\n",
        "tweet num: "
       ]
      },
      {
       "output_type": "stream",
       "stream": "stdout",
       "text": [
        " 42000  of  282315\n",
        "tweet num: "
       ]
      },
      {
       "output_type": "stream",
       "stream": "stdout",
       "text": [
        " 43000  of  282315\n",
        "tweet num: "
       ]
      },
      {
       "output_type": "stream",
       "stream": "stdout",
       "text": [
        " 44000  of  282315\n",
        "tweet num: "
       ]
      },
      {
       "output_type": "stream",
       "stream": "stdout",
       "text": [
        " 45000  of  282315\n",
        "tweet num: "
       ]
      },
      {
       "output_type": "stream",
       "stream": "stdout",
       "text": [
        " 46000  of  282315\n",
        "tweet num: "
       ]
      },
      {
       "output_type": "stream",
       "stream": "stdout",
       "text": [
        " 47000  of  282315\n",
        "tweet num: "
       ]
      },
      {
       "output_type": "stream",
       "stream": "stdout",
       "text": [
        " 48000  of  282315\n",
        "tweet num: "
       ]
      },
      {
       "output_type": "stream",
       "stream": "stdout",
       "text": [
        " 49000  of  282315\n",
        "tweet num: "
       ]
      },
      {
       "output_type": "stream",
       "stream": "stdout",
       "text": [
        " 50000  of  282315\n",
        "tweet num: "
       ]
      },
      {
       "output_type": "stream",
       "stream": "stdout",
       "text": [
        " 51000  of  282315\n",
        "tweet num: "
       ]
      },
      {
       "output_type": "stream",
       "stream": "stdout",
       "text": [
        " 52000  of  282315\n",
        "tweet num: "
       ]
      },
      {
       "output_type": "stream",
       "stream": "stdout",
       "text": [
        " 53000  of  282315\n",
        "tweet num: "
       ]
      },
      {
       "output_type": "stream",
       "stream": "stdout",
       "text": [
        " 54000  of  282315\n",
        "tweet num: "
       ]
      },
      {
       "output_type": "stream",
       "stream": "stdout",
       "text": [
        " 55000  of  282315\n",
        "tweet num: "
       ]
      },
      {
       "output_type": "stream",
       "stream": "stdout",
       "text": [
        " 56000  of  282315\n",
        "tweet num: "
       ]
      },
      {
       "output_type": "stream",
       "stream": "stdout",
       "text": [
        " 57000  of  282315\n",
        "tweet num: "
       ]
      },
      {
       "output_type": "stream",
       "stream": "stdout",
       "text": [
        " 58000  of  282315\n",
        "tweet num: "
       ]
      },
      {
       "output_type": "stream",
       "stream": "stdout",
       "text": [
        " 59000  of  282315\n",
        "tweet num: "
       ]
      },
      {
       "output_type": "stream",
       "stream": "stdout",
       "text": [
        " 60000  of  282315\n",
        "tweet num: "
       ]
      },
      {
       "output_type": "stream",
       "stream": "stdout",
       "text": [
        " 61000  of  282315\n",
        "tweet num: "
       ]
      },
      {
       "output_type": "stream",
       "stream": "stdout",
       "text": [
        " 62000  of  282315\n",
        "tweet num: "
       ]
      },
      {
       "output_type": "stream",
       "stream": "stdout",
       "text": [
        " 63000  of  282315\n",
        "tweet num: "
       ]
      },
      {
       "output_type": "stream",
       "stream": "stdout",
       "text": [
        " 64000  of  282315\n",
        "tweet num: "
       ]
      },
      {
       "output_type": "stream",
       "stream": "stdout",
       "text": [
        " 65000  of  282315\n",
        "tweet num: "
       ]
      },
      {
       "output_type": "stream",
       "stream": "stdout",
       "text": [
        " 66000  of  282315\n",
        "tweet num: "
       ]
      },
      {
       "output_type": "stream",
       "stream": "stdout",
       "text": [
        " 67000  of  282315\n",
        "tweet num: "
       ]
      },
      {
       "output_type": "stream",
       "stream": "stdout",
       "text": [
        " 68000  of  282315\n",
        "tweet num: "
       ]
      },
      {
       "output_type": "stream",
       "stream": "stdout",
       "text": [
        " 69000  of  282315\n",
        "tweet num: "
       ]
      },
      {
       "output_type": "stream",
       "stream": "stdout",
       "text": [
        " 70000  of  282315\n",
        "tweet num: "
       ]
      },
      {
       "output_type": "stream",
       "stream": "stdout",
       "text": [
        " 71000  of  282315\n",
        "tweet num: "
       ]
      },
      {
       "output_type": "stream",
       "stream": "stdout",
       "text": [
        " 72000  of  282315\n",
        "tweet num: "
       ]
      },
      {
       "output_type": "stream",
       "stream": "stdout",
       "text": [
        " 73000  of  282315\n",
        "tweet num: "
       ]
      },
      {
       "output_type": "stream",
       "stream": "stdout",
       "text": [
        " 74000  of  282315\n",
        "tweet num: "
       ]
      },
      {
       "output_type": "stream",
       "stream": "stdout",
       "text": [
        " 75000  of  282315\n",
        "tweet num: "
       ]
      },
      {
       "output_type": "stream",
       "stream": "stdout",
       "text": [
        " 76000  of  282315\n",
        "tweet num: "
       ]
      },
      {
       "output_type": "stream",
       "stream": "stdout",
       "text": [
        " 77000  of  282315\n",
        "tweet num: "
       ]
      },
      {
       "output_type": "stream",
       "stream": "stdout",
       "text": [
        " 78000  of  282315\n",
        "tweet num: "
       ]
      },
      {
       "output_type": "stream",
       "stream": "stdout",
       "text": [
        " 79000  of  282315\n",
        "tweet num: "
       ]
      },
      {
       "output_type": "stream",
       "stream": "stdout",
       "text": [
        " 80000  of  282315\n",
        "tweet num: "
       ]
      },
      {
       "output_type": "stream",
       "stream": "stdout",
       "text": [
        " 81000  of  282315\n",
        "tweet num: "
       ]
      },
      {
       "output_type": "stream",
       "stream": "stdout",
       "text": [
        " 82000  of  282315\n",
        "tweet num: "
       ]
      },
      {
       "output_type": "stream",
       "stream": "stdout",
       "text": [
        " 83000  of  282315\n",
        "tweet num: "
       ]
      },
      {
       "output_type": "stream",
       "stream": "stdout",
       "text": [
        " 84000  of  282315\n",
        "tweet num: "
       ]
      },
      {
       "output_type": "stream",
       "stream": "stdout",
       "text": [
        " 85000  of  282315\n",
        "tweet num: "
       ]
      },
      {
       "output_type": "stream",
       "stream": "stdout",
       "text": [
        " 86000  of  282315\n",
        "tweet num: "
       ]
      },
      {
       "output_type": "stream",
       "stream": "stdout",
       "text": [
        " 87000  of  282315\n",
        "tweet num: "
       ]
      },
      {
       "output_type": "stream",
       "stream": "stdout",
       "text": [
        " 88000  of  282315\n",
        "tweet num: "
       ]
      },
      {
       "output_type": "stream",
       "stream": "stdout",
       "text": [
        " 89000  of  282315\n",
        "tweet num: "
       ]
      },
      {
       "output_type": "stream",
       "stream": "stdout",
       "text": [
        " 90000  of  282315\n",
        "tweet num: "
       ]
      },
      {
       "output_type": "stream",
       "stream": "stdout",
       "text": [
        " 91000  of  282315\n",
        "tweet num: "
       ]
      },
      {
       "output_type": "stream",
       "stream": "stdout",
       "text": [
        " 92000  of  282315\n",
        "tweet num: "
       ]
      },
      {
       "output_type": "stream",
       "stream": "stdout",
       "text": [
        " 93000  of  282315\n",
        "tweet num: "
       ]
      },
      {
       "output_type": "stream",
       "stream": "stdout",
       "text": [
        " 94000  of  282315\n",
        "tweet num: "
       ]
      },
      {
       "output_type": "stream",
       "stream": "stdout",
       "text": [
        " 95000  of  282315\n",
        "tweet num: "
       ]
      },
      {
       "output_type": "stream",
       "stream": "stdout",
       "text": [
        " 96000  of  282315\n",
        "tweet num: "
       ]
      },
      {
       "output_type": "stream",
       "stream": "stdout",
       "text": [
        " 97000  of  282315\n",
        "tweet num: "
       ]
      },
      {
       "output_type": "stream",
       "stream": "stdout",
       "text": [
        " 98000  of  282315\n",
        "tweet num: "
       ]
      },
      {
       "output_type": "stream",
       "stream": "stdout",
       "text": [
        " 99000  of  282315\n",
        "tweet num: "
       ]
      },
      {
       "output_type": "stream",
       "stream": "stdout",
       "text": [
        " 100000  of  282315\n",
        "tweet num: "
       ]
      },
      {
       "output_type": "stream",
       "stream": "stdout",
       "text": [
        " 101000  of  282315\n",
        "tweet num: "
       ]
      },
      {
       "output_type": "stream",
       "stream": "stdout",
       "text": [
        " 102000  of  282315\n",
        "tweet num: "
       ]
      },
      {
       "output_type": "stream",
       "stream": "stdout",
       "text": [
        " 103000  of  282315\n",
        "tweet num: "
       ]
      },
      {
       "output_type": "stream",
       "stream": "stdout",
       "text": [
        " 104000  of  282315\n",
        "tweet num: "
       ]
      },
      {
       "output_type": "stream",
       "stream": "stdout",
       "text": [
        " 105000  of  282315\n",
        "tweet num: "
       ]
      },
      {
       "output_type": "stream",
       "stream": "stdout",
       "text": [
        " 106000  of  282315\n",
        "tweet num: "
       ]
      },
      {
       "output_type": "stream",
       "stream": "stdout",
       "text": [
        " 107000  of  282315\n",
        "tweet num: "
       ]
      },
      {
       "output_type": "stream",
       "stream": "stdout",
       "text": [
        " 108000  of  282315\n",
        "tweet num: "
       ]
      },
      {
       "output_type": "stream",
       "stream": "stdout",
       "text": [
        " 109000  of  282315\n",
        "tweet num: "
       ]
      },
      {
       "output_type": "stream",
       "stream": "stdout",
       "text": [
        " 110000  of  282315\n",
        "tweet num: "
       ]
      },
      {
       "output_type": "stream",
       "stream": "stdout",
       "text": [
        " 111000  of  282315\n",
        "tweet num: "
       ]
      },
      {
       "output_type": "stream",
       "stream": "stdout",
       "text": [
        " 112000  of  282315\n",
        "tweet num: "
       ]
      },
      {
       "output_type": "stream",
       "stream": "stdout",
       "text": [
        " 113000  of  282315\n",
        "tweet num: "
       ]
      },
      {
       "output_type": "stream",
       "stream": "stdout",
       "text": [
        " 114000  of  282315\n",
        "tweet num: "
       ]
      },
      {
       "output_type": "stream",
       "stream": "stdout",
       "text": [
        " 115000  of  282315\n",
        "tweet num: "
       ]
      },
      {
       "output_type": "stream",
       "stream": "stdout",
       "text": [
        " 116000  of  282315\n",
        "tweet num: "
       ]
      },
      {
       "output_type": "stream",
       "stream": "stdout",
       "text": [
        " 117000  of  282315\n",
        "tweet num: "
       ]
      },
      {
       "output_type": "stream",
       "stream": "stdout",
       "text": [
        " 118000  of  282315\n",
        "tweet num: "
       ]
      },
      {
       "output_type": "stream",
       "stream": "stdout",
       "text": [
        " 119000  of  282315\n",
        "tweet num: "
       ]
      },
      {
       "output_type": "stream",
       "stream": "stdout",
       "text": [
        " 120000  of  282315\n",
        "tweet num: "
       ]
      },
      {
       "output_type": "stream",
       "stream": "stdout",
       "text": [
        " 121000  of  282315\n",
        "tweet num: "
       ]
      },
      {
       "output_type": "stream",
       "stream": "stdout",
       "text": [
        " 122000  of  282315\n",
        "tweet num: "
       ]
      },
      {
       "output_type": "stream",
       "stream": "stdout",
       "text": [
        " 123000  of  282315\n",
        "tweet num: "
       ]
      },
      {
       "output_type": "stream",
       "stream": "stdout",
       "text": [
        " 124000  of  282315\n",
        "tweet num: "
       ]
      },
      {
       "output_type": "stream",
       "stream": "stdout",
       "text": [
        " 125000  of  282315\n",
        "tweet num: "
       ]
      },
      {
       "output_type": "stream",
       "stream": "stdout",
       "text": [
        " 126000  of  282315\n",
        "tweet num: "
       ]
      },
      {
       "output_type": "stream",
       "stream": "stdout",
       "text": [
        " 127000  of  282315\n",
        "tweet num: "
       ]
      },
      {
       "output_type": "stream",
       "stream": "stdout",
       "text": [
        " 128000  of  282315\n",
        "tweet num: "
       ]
      },
      {
       "output_type": "stream",
       "stream": "stdout",
       "text": [
        " 129000  of  282315\n",
        "tweet num: "
       ]
      },
      {
       "output_type": "stream",
       "stream": "stdout",
       "text": [
        " 130000  of  282315\n",
        "tweet num: "
       ]
      },
      {
       "output_type": "stream",
       "stream": "stdout",
       "text": [
        " 131000  of  282315\n",
        "tweet num: "
       ]
      },
      {
       "output_type": "stream",
       "stream": "stdout",
       "text": [
        " 132000  of  282315\n",
        "tweet num: "
       ]
      },
      {
       "output_type": "stream",
       "stream": "stdout",
       "text": [
        " 133000  of  282315\n",
        "tweet num: "
       ]
      },
      {
       "output_type": "stream",
       "stream": "stdout",
       "text": [
        " 134000  of  282315\n",
        "tweet num: "
       ]
      },
      {
       "output_type": "stream",
       "stream": "stdout",
       "text": [
        " 135000  of  282315\n",
        "tweet num: "
       ]
      },
      {
       "output_type": "stream",
       "stream": "stdout",
       "text": [
        " 136000  of  282315\n",
        "tweet num: "
       ]
      },
      {
       "output_type": "stream",
       "stream": "stdout",
       "text": [
        " 137000  of  282315\n",
        "tweet num: "
       ]
      },
      {
       "output_type": "stream",
       "stream": "stdout",
       "text": [
        " 138000  of  282315\n",
        "tweet num: "
       ]
      },
      {
       "output_type": "stream",
       "stream": "stdout",
       "text": [
        " 139000  of  282315\n",
        "tweet num: "
       ]
      },
      {
       "output_type": "stream",
       "stream": "stdout",
       "text": [
        " 140000  of  282315\n",
        "tweet num: "
       ]
      },
      {
       "output_type": "stream",
       "stream": "stdout",
       "text": [
        " 141000  of  282315\n",
        "tweet num: "
       ]
      },
      {
       "output_type": "stream",
       "stream": "stdout",
       "text": [
        " 142000  of  282315\n",
        "tweet num: "
       ]
      },
      {
       "output_type": "stream",
       "stream": "stdout",
       "text": [
        " 143000  of  282315\n",
        "tweet num: "
       ]
      },
      {
       "output_type": "stream",
       "stream": "stdout",
       "text": [
        " 144000  of  282315\n",
        "tweet num: "
       ]
      },
      {
       "output_type": "stream",
       "stream": "stdout",
       "text": [
        " 145000  of  282315\n",
        "tweet num: "
       ]
      },
      {
       "output_type": "stream",
       "stream": "stdout",
       "text": [
        " 146000  of  282315\n",
        "tweet num: "
       ]
      },
      {
       "output_type": "stream",
       "stream": "stdout",
       "text": [
        " 147000  of  282315\n",
        "tweet num: "
       ]
      },
      {
       "output_type": "stream",
       "stream": "stdout",
       "text": [
        " 148000  of  282315\n",
        "tweet num: "
       ]
      },
      {
       "output_type": "stream",
       "stream": "stdout",
       "text": [
        " 149000  of  282315\n",
        "tweet num: "
       ]
      },
      {
       "output_type": "stream",
       "stream": "stdout",
       "text": [
        " 150000  of  282315\n",
        "tweet num: "
       ]
      },
      {
       "output_type": "stream",
       "stream": "stdout",
       "text": [
        " 151000  of  282315\n",
        "tweet num: "
       ]
      },
      {
       "output_type": "stream",
       "stream": "stdout",
       "text": [
        " 152000  of  282315\n",
        "tweet num: "
       ]
      },
      {
       "output_type": "stream",
       "stream": "stdout",
       "text": [
        " 153000  of  282315\n",
        "tweet num: "
       ]
      },
      {
       "output_type": "stream",
       "stream": "stdout",
       "text": [
        " 154000  of  282315\n",
        "tweet num: "
       ]
      },
      {
       "output_type": "stream",
       "stream": "stdout",
       "text": [
        " 155000  of  282315\n",
        "tweet num: "
       ]
      },
      {
       "output_type": "stream",
       "stream": "stdout",
       "text": [
        " 156000  of  282315\n",
        "tweet num: "
       ]
      },
      {
       "output_type": "stream",
       "stream": "stdout",
       "text": [
        " 157000  of  282315\n",
        "tweet num: "
       ]
      },
      {
       "output_type": "stream",
       "stream": "stdout",
       "text": [
        " 158000  of  282315\n",
        "tweet num: "
       ]
      },
      {
       "output_type": "stream",
       "stream": "stdout",
       "text": [
        " 159000  of  282315\n",
        "tweet num: "
       ]
      },
      {
       "output_type": "stream",
       "stream": "stdout",
       "text": [
        " 160000  of  282315\n",
        "tweet num: "
       ]
      },
      {
       "output_type": "stream",
       "stream": "stdout",
       "text": [
        " 161000  of  282315\n",
        "tweet num: "
       ]
      },
      {
       "output_type": "stream",
       "stream": "stdout",
       "text": [
        " 162000  of  282315\n",
        "tweet num: "
       ]
      },
      {
       "output_type": "stream",
       "stream": "stdout",
       "text": [
        " 163000  of  282315\n",
        "tweet num: "
       ]
      },
      {
       "output_type": "stream",
       "stream": "stdout",
       "text": [
        " 164000  of  282315\n",
        "tweet num: "
       ]
      },
      {
       "output_type": "stream",
       "stream": "stdout",
       "text": [
        " 165000  of  282315\n",
        "tweet num: "
       ]
      },
      {
       "output_type": "stream",
       "stream": "stdout",
       "text": [
        " 166000  of  282315\n",
        "tweet num: "
       ]
      },
      {
       "output_type": "stream",
       "stream": "stdout",
       "text": [
        " 167000  of  282315\n",
        "tweet num: "
       ]
      },
      {
       "output_type": "stream",
       "stream": "stdout",
       "text": [
        " 168000  of  282315\n",
        "tweet num: "
       ]
      },
      {
       "output_type": "stream",
       "stream": "stdout",
       "text": [
        " 169000  of  282315\n",
        "tweet num: "
       ]
      },
      {
       "output_type": "stream",
       "stream": "stdout",
       "text": [
        " 170000  of  282315\n",
        "tweet num: "
       ]
      },
      {
       "output_type": "stream",
       "stream": "stdout",
       "text": [
        " 171000  of  282315\n",
        "tweet num: "
       ]
      },
      {
       "output_type": "stream",
       "stream": "stdout",
       "text": [
        " 172000  of  282315\n",
        "tweet num: "
       ]
      },
      {
       "output_type": "stream",
       "stream": "stdout",
       "text": [
        " 173000  of  282315\n",
        "tweet num: "
       ]
      },
      {
       "output_type": "stream",
       "stream": "stdout",
       "text": [
        " 174000  of  282315\n",
        "tweet num: "
       ]
      },
      {
       "output_type": "stream",
       "stream": "stdout",
       "text": [
        " 175000  of  282315\n",
        "tweet num: "
       ]
      },
      {
       "output_type": "stream",
       "stream": "stdout",
       "text": [
        " 176000  of  282315\n",
        "tweet num: "
       ]
      },
      {
       "output_type": "stream",
       "stream": "stdout",
       "text": [
        " 177000  of  282315\n",
        "tweet num: "
       ]
      },
      {
       "output_type": "stream",
       "stream": "stdout",
       "text": [
        " 178000  of  282315\n",
        "tweet num: "
       ]
      },
      {
       "output_type": "stream",
       "stream": "stdout",
       "text": [
        " 179000  of  282315\n",
        "tweet num: "
       ]
      },
      {
       "output_type": "stream",
       "stream": "stdout",
       "text": [
        " 180000  of  282315\n",
        "tweet num: "
       ]
      },
      {
       "output_type": "stream",
       "stream": "stdout",
       "text": [
        " 181000  of  282315\n",
        "tweet num: "
       ]
      },
      {
       "output_type": "stream",
       "stream": "stdout",
       "text": [
        " 182000  of  282315\n",
        "tweet num: "
       ]
      },
      {
       "output_type": "stream",
       "stream": "stdout",
       "text": [
        " 183000  of  282315\n",
        "tweet num: "
       ]
      },
      {
       "output_type": "stream",
       "stream": "stdout",
       "text": [
        " 184000  of  282315\n",
        "tweet num: "
       ]
      },
      {
       "output_type": "stream",
       "stream": "stdout",
       "text": [
        " 185000  of  282315\n",
        "tweet num: "
       ]
      },
      {
       "output_type": "stream",
       "stream": "stdout",
       "text": [
        " 186000  of  282315\n",
        "tweet num: "
       ]
      },
      {
       "output_type": "stream",
       "stream": "stdout",
       "text": [
        " 187000  of  282315\n",
        "tweet num: "
       ]
      },
      {
       "output_type": "stream",
       "stream": "stdout",
       "text": [
        " 188000  of  282315\n",
        "tweet num: "
       ]
      },
      {
       "output_type": "stream",
       "stream": "stdout",
       "text": [
        " 189000  of  282315\n",
        "tweet num: "
       ]
      },
      {
       "output_type": "stream",
       "stream": "stdout",
       "text": [
        " 190000  of  282315\n",
        "tweet num: "
       ]
      },
      {
       "output_type": "stream",
       "stream": "stdout",
       "text": [
        " 191000  of  282315\n",
        "tweet num: "
       ]
      },
      {
       "output_type": "stream",
       "stream": "stdout",
       "text": [
        " 192000  of  282315\n",
        "tweet num: "
       ]
      },
      {
       "output_type": "stream",
       "stream": "stdout",
       "text": [
        " 193000  of  282315\n",
        "tweet num: "
       ]
      },
      {
       "output_type": "stream",
       "stream": "stdout",
       "text": [
        " 194000  of  282315\n",
        "tweet num: "
       ]
      },
      {
       "output_type": "stream",
       "stream": "stdout",
       "text": [
        " 195000  of  282315\n",
        "tweet num: "
       ]
      },
      {
       "output_type": "stream",
       "stream": "stdout",
       "text": [
        " 196000  of  282315\n",
        "tweet num: "
       ]
      },
      {
       "output_type": "stream",
       "stream": "stdout",
       "text": [
        " 197000  of  282315\n",
        "tweet num: "
       ]
      },
      {
       "output_type": "stream",
       "stream": "stdout",
       "text": [
        " 198000  of  282315\n",
        "tweet num: "
       ]
      },
      {
       "output_type": "stream",
       "stream": "stdout",
       "text": [
        " 199000  of  282315\n",
        "tweet num: "
       ]
      },
      {
       "output_type": "stream",
       "stream": "stdout",
       "text": [
        " 200000  of  282315\n",
        "tweet num: "
       ]
      },
      {
       "output_type": "stream",
       "stream": "stdout",
       "text": [
        " 201000  of  282315\n",
        "tweet num: "
       ]
      },
      {
       "output_type": "stream",
       "stream": "stdout",
       "text": [
        " 202000  of  282315\n",
        "tweet num: "
       ]
      },
      {
       "output_type": "stream",
       "stream": "stdout",
       "text": [
        " 203000  of  282315\n",
        "tweet num: "
       ]
      },
      {
       "output_type": "stream",
       "stream": "stdout",
       "text": [
        " 204000  of  282315\n",
        "tweet num: "
       ]
      },
      {
       "output_type": "stream",
       "stream": "stdout",
       "text": [
        " 205000  of  282315\n",
        "tweet num: "
       ]
      },
      {
       "output_type": "stream",
       "stream": "stdout",
       "text": [
        " 206000  of  282315\n",
        "tweet num: "
       ]
      },
      {
       "output_type": "stream",
       "stream": "stdout",
       "text": [
        " 207000  of  282315\n",
        "tweet num: "
       ]
      },
      {
       "output_type": "stream",
       "stream": "stdout",
       "text": [
        " 208000  of  282315\n",
        "tweet num: "
       ]
      },
      {
       "output_type": "stream",
       "stream": "stdout",
       "text": [
        " 209000  of  282315\n",
        "tweet num: "
       ]
      },
      {
       "output_type": "stream",
       "stream": "stdout",
       "text": [
        " 210000  of  282315\n",
        "tweet num: "
       ]
      },
      {
       "output_type": "stream",
       "stream": "stdout",
       "text": [
        " 211000  of  282315\n",
        "tweet num: "
       ]
      },
      {
       "output_type": "stream",
       "stream": "stdout",
       "text": [
        " 212000  of  282315\n",
        "tweet num: "
       ]
      },
      {
       "output_type": "stream",
       "stream": "stdout",
       "text": [
        " 213000  of  282315\n",
        "tweet num: "
       ]
      },
      {
       "output_type": "stream",
       "stream": "stdout",
       "text": [
        " 214000  of  282315\n",
        "tweet num: "
       ]
      },
      {
       "output_type": "stream",
       "stream": "stdout",
       "text": [
        " 215000  of  282315\n",
        "tweet num: "
       ]
      },
      {
       "output_type": "stream",
       "stream": "stdout",
       "text": [
        " 216000  of  282315\n",
        "tweet num: "
       ]
      },
      {
       "output_type": "stream",
       "stream": "stdout",
       "text": [
        " 217000  of  282315\n",
        "tweet num: "
       ]
      },
      {
       "output_type": "stream",
       "stream": "stdout",
       "text": [
        " 218000  of  282315\n",
        "tweet num: "
       ]
      },
      {
       "output_type": "stream",
       "stream": "stdout",
       "text": [
        " 219000  of  282315\n",
        "tweet num: "
       ]
      },
      {
       "output_type": "stream",
       "stream": "stdout",
       "text": [
        " 220000  of  282315\n",
        "tweet num: "
       ]
      },
      {
       "output_type": "stream",
       "stream": "stdout",
       "text": [
        " 221000  of  282315\n",
        "tweet num: "
       ]
      },
      {
       "output_type": "stream",
       "stream": "stdout",
       "text": [
        " 222000  of  282315\n",
        "tweet num: "
       ]
      },
      {
       "output_type": "stream",
       "stream": "stdout",
       "text": [
        " 223000  of  282315\n",
        "tweet num: "
       ]
      },
      {
       "output_type": "stream",
       "stream": "stdout",
       "text": [
        " 224000  of  282315\n",
        "tweet num: "
       ]
      },
      {
       "output_type": "stream",
       "stream": "stdout",
       "text": [
        " 225000  of  282315\n",
        "tweet num: "
       ]
      },
      {
       "output_type": "stream",
       "stream": "stdout",
       "text": [
        " 226000  of  282315\n",
        "tweet num: "
       ]
      },
      {
       "output_type": "stream",
       "stream": "stdout",
       "text": [
        " 227000  of  282315\n",
        "tweet num: "
       ]
      },
      {
       "output_type": "stream",
       "stream": "stdout",
       "text": [
        " 228000  of  282315\n",
        "tweet num: "
       ]
      },
      {
       "output_type": "stream",
       "stream": "stdout",
       "text": [
        " 229000  of  282315\n",
        "tweet num: "
       ]
      },
      {
       "output_type": "stream",
       "stream": "stdout",
       "text": [
        " 230000  of  282315\n",
        "tweet num: "
       ]
      },
      {
       "output_type": "stream",
       "stream": "stdout",
       "text": [
        " 231000  of  282315\n",
        "tweet num: "
       ]
      },
      {
       "output_type": "stream",
       "stream": "stdout",
       "text": [
        " 232000  of  282315\n",
        "tweet num: "
       ]
      },
      {
       "output_type": "stream",
       "stream": "stdout",
       "text": [
        " 233000  of  282315\n",
        "tweet num: "
       ]
      },
      {
       "output_type": "stream",
       "stream": "stdout",
       "text": [
        " 234000  of  282315\n",
        "tweet num: "
       ]
      },
      {
       "output_type": "stream",
       "stream": "stdout",
       "text": [
        " 235000  of  282315\n",
        "tweet num: "
       ]
      },
      {
       "output_type": "stream",
       "stream": "stdout",
       "text": [
        " 236000  of  282315\n",
        "tweet num: "
       ]
      },
      {
       "output_type": "stream",
       "stream": "stdout",
       "text": [
        " 237000  of  282315\n",
        "tweet num: "
       ]
      },
      {
       "output_type": "stream",
       "stream": "stdout",
       "text": [
        " 238000  of  282315\n",
        "tweet num: "
       ]
      },
      {
       "output_type": "stream",
       "stream": "stdout",
       "text": [
        " 239000  of  282315\n",
        "tweet num: "
       ]
      },
      {
       "output_type": "stream",
       "stream": "stdout",
       "text": [
        " 240000  of  282315\n",
        "tweet num: "
       ]
      },
      {
       "output_type": "stream",
       "stream": "stdout",
       "text": [
        " 241000  of  282315\n",
        "tweet num: "
       ]
      },
      {
       "output_type": "stream",
       "stream": "stdout",
       "text": [
        " 242000  of  282315\n",
        "tweet num: "
       ]
      },
      {
       "output_type": "stream",
       "stream": "stdout",
       "text": [
        " 243000  of  282315\n",
        "tweet num: "
       ]
      },
      {
       "output_type": "stream",
       "stream": "stdout",
       "text": [
        " 244000  of  282315\n",
        "tweet num: "
       ]
      },
      {
       "output_type": "stream",
       "stream": "stdout",
       "text": [
        " 245000  of  282315\n",
        "tweet num: "
       ]
      },
      {
       "output_type": "stream",
       "stream": "stdout",
       "text": [
        " 246000  of  282315\n",
        "tweet num: "
       ]
      },
      {
       "output_type": "stream",
       "stream": "stdout",
       "text": [
        " 247000  of  282315\n",
        "tweet num: "
       ]
      },
      {
       "output_type": "stream",
       "stream": "stdout",
       "text": [
        " 248000  of  282315\n",
        "tweet num: "
       ]
      },
      {
       "output_type": "stream",
       "stream": "stdout",
       "text": [
        " 249000  of  282315\n",
        "tweet num: "
       ]
      },
      {
       "output_type": "stream",
       "stream": "stdout",
       "text": [
        " 250000  of  282315\n",
        "tweet num: "
       ]
      },
      {
       "output_type": "stream",
       "stream": "stdout",
       "text": [
        " 251000  of  282315\n",
        "tweet num: "
       ]
      },
      {
       "output_type": "stream",
       "stream": "stdout",
       "text": [
        " 252000  of  282315\n",
        "tweet num: "
       ]
      },
      {
       "output_type": "stream",
       "stream": "stdout",
       "text": [
        " 253000  of  282315\n",
        "tweet num: "
       ]
      },
      {
       "output_type": "stream",
       "stream": "stdout",
       "text": [
        " 254000  of  282315\n",
        "tweet num: "
       ]
      },
      {
       "output_type": "stream",
       "stream": "stdout",
       "text": [
        " 255000  of  282315\n",
        "tweet num: "
       ]
      },
      {
       "output_type": "stream",
       "stream": "stdout",
       "text": [
        " 256000  of  282315\n",
        "tweet num: "
       ]
      },
      {
       "output_type": "stream",
       "stream": "stdout",
       "text": [
        " 257000  of  282315\n",
        "tweet num: "
       ]
      },
      {
       "output_type": "stream",
       "stream": "stdout",
       "text": [
        " 258000  of  282315\n",
        "tweet num: "
       ]
      },
      {
       "output_type": "stream",
       "stream": "stdout",
       "text": [
        " 259000  of  282315\n",
        "tweet num: "
       ]
      },
      {
       "output_type": "stream",
       "stream": "stdout",
       "text": [
        " 260000  of  282315\n",
        "tweet num: "
       ]
      },
      {
       "output_type": "stream",
       "stream": "stdout",
       "text": [
        " 261000  of  282315\n",
        "tweet num: "
       ]
      },
      {
       "output_type": "stream",
       "stream": "stdout",
       "text": [
        " 262000  of  282315\n",
        "tweet num: "
       ]
      },
      {
       "output_type": "stream",
       "stream": "stdout",
       "text": [
        " 263000  of  282315\n",
        "tweet num: "
       ]
      },
      {
       "output_type": "stream",
       "stream": "stdout",
       "text": [
        " 264000  of  282315\n",
        "tweet num: "
       ]
      },
      {
       "output_type": "stream",
       "stream": "stdout",
       "text": [
        " 265000  of  282315\n",
        "tweet num: "
       ]
      },
      {
       "output_type": "stream",
       "stream": "stdout",
       "text": [
        " 266000  of  282315\n",
        "tweet num: "
       ]
      },
      {
       "output_type": "stream",
       "stream": "stdout",
       "text": [
        " 267000  of  282315\n",
        "tweet num: "
       ]
      },
      {
       "output_type": "stream",
       "stream": "stdout",
       "text": [
        " 268000  of  282315\n",
        "tweet num: "
       ]
      },
      {
       "output_type": "stream",
       "stream": "stdout",
       "text": [
        " 269000  of  282315\n",
        "tweet num: "
       ]
      },
      {
       "output_type": "stream",
       "stream": "stdout",
       "text": [
        " 270000  of  282315\n",
        "tweet num: "
       ]
      },
      {
       "output_type": "stream",
       "stream": "stdout",
       "text": [
        " 271000  of  282315\n",
        "tweet num: "
       ]
      },
      {
       "output_type": "stream",
       "stream": "stdout",
       "text": [
        " 272000  of  282315\n",
        "tweet num: "
       ]
      },
      {
       "output_type": "stream",
       "stream": "stdout",
       "text": [
        " 273000  of  282315\n",
        "tweet num: "
       ]
      },
      {
       "output_type": "stream",
       "stream": "stdout",
       "text": [
        " 274000  of  282315\n",
        "tweet num: "
       ]
      },
      {
       "output_type": "stream",
       "stream": "stdout",
       "text": [
        " 275000  of  282315\n",
        "tweet num: "
       ]
      },
      {
       "output_type": "stream",
       "stream": "stdout",
       "text": [
        " 276000  of  282315\n",
        "tweet num: "
       ]
      },
      {
       "output_type": "stream",
       "stream": "stdout",
       "text": [
        " 277000  of  282315\n",
        "tweet num: "
       ]
      },
      {
       "output_type": "stream",
       "stream": "stdout",
       "text": [
        " 278000  of  282315\n",
        "tweet num: "
       ]
      },
      {
       "output_type": "stream",
       "stream": "stdout",
       "text": [
        " 279000  of  282315\n",
        "tweet num: "
       ]
      },
      {
       "output_type": "stream",
       "stream": "stdout",
       "text": [
        " 280000  of  282315\n",
        "tweet num: "
       ]
      },
      {
       "output_type": "stream",
       "stream": "stdout",
       "text": [
        " 281000  of  282315\n",
        "tweet num: "
       ]
      },
      {
       "output_type": "stream",
       "stream": "stdout",
       "text": [
        " 282000  of  282315\n"
       ]
      }
     ],
     "prompt_number": 12
    },
    {
     "cell_type": "code",
     "collapsed": false,
     "input": [
      "d['personnounscore'] = personnounscore\n",
      "d['personverbscore'] = personverbscore\n",
      "d['mentnounscore'] = mentnounscore\n",
      "d['valencenounscore'] = valencenounscore\n",
      "d['mentverbscore'] = mentverbscore\n",
      "d['socverbscore'] = socverbscore\n",
      "d['socnounscore'] = socnounscore\n",
      "d['neutnounscore'] = neutnounscore\n",
      "d['neutverbscore'] = neutverbscore\n",
      "d['emotionverbscore'] = emotionverbscore\n",
      "\n",
      "d['neutral'] = d['neutnounscore'] + d['neutverbscore']\n",
      "d['emo'] = d['emotionverbscore'] + d['valencenounscore']\n",
      "d['people'] = d['personnounscore'] + d['personverbscore'] + d['mentnounscore'] + d['mentverbscore'] + d['socverbscore']  + d['socnounscore']\n",
      "  \n",
      "# d.to_csv('geo_tweets_content.csv')\n",
      "d.to_csv('all_tweets5_content.csv')"
     ],
     "language": "python",
     "metadata": {},
     "outputs": [],
     "prompt_number": 13
    },
    {
     "cell_type": "code",
     "collapsed": false,
     "input": [],
     "language": "python",
     "metadata": {},
     "outputs": []
    }
   ],
   "metadata": {}
  }
 ]
}