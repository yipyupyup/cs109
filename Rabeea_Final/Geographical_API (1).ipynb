{
 "metadata": {
  "name": "Geographical_API"
 },
 "nbformat": 3,
 "nbformat_minor": 0,
 "worksheets": [
  {
   "cells": [
    {
     "cell_type": "code",
     "collapsed": false,
     "input": "import requests\nfrom BeautifulSoup import BeautifulSoup",
     "language": "python",
     "metadata": {},
     "outputs": [],
     "prompt_number": 10
    },
    {
     "cell_type": "code",
     "collapsed": false,
     "input": "COUNTRY_DICT = {}",
     "language": "python",
     "metadata": {},
     "outputs": [],
     "prompt_number": 37
    },
    {
     "cell_type": "code",
     "collapsed": false,
     "input": "def create_country_data():\n    country_data_url = \"http://www.geonames.org/countries/\"\n    country_data = requests.get(country_data_url).text\n    soup = BeautifulSoup(country_data)\n    for link_tag in soup.findAll('a'):\n        if link_tag.has_key('href'):\n            link = link_tag['href']\n            if link[0:11] == '/countries/':\n                COUNTRY_DICT[link[11:13]] = link[14:-5]",
     "language": "python",
     "metadata": {},
     "outputs": [],
     "prompt_number": 38
    },
    {
     "cell_type": "code",
     "collapsed": false,
     "input": "create_country_data()",
     "language": "python",
     "metadata": {},
     "outputs": [],
     "prompt_number": 39
    },
    {
     "cell_type": "code",
     "collapsed": false,
     "input": "def country_from_code(code):\n    return COUNTRY_DICT[code]",
     "language": "python",
     "metadata": {},
     "outputs": [],
     "prompt_number": 44
    },
    {
     "cell_type": "code",
     "collapsed": false,
     "input": "def get_location(longitude, latitude):\n    web_url = \"http://ws.geonames.org/countryCode?lat=\"+str(latitude)+\"&lng=\"+str(longitude)\n    country_code = requests.get(web_url).text\n    country_name = country_from_code(country_code)\n    print country_name",
     "language": "python",
     "metadata": {},
     "outputs": [],
     "prompt_number": 46
    },
    {
     "cell_type": "code",
     "collapsed": false,
     "input": "",
     "language": "python",
     "metadata": {},
     "outputs": []
    },
    {
     "cell_type": "code",
     "collapsed": false,
     "input": "",
     "language": "python",
     "metadata": {},
     "outputs": []
    },
    {
     "cell_type": "code",
     "collapsed": false,
     "input": "get_location(73.06, 33.71)",
     "language": "python",
     "metadata": {},
     "outputs": [
      {
       "output_type": "stream",
       "stream": "stdout",
       "text": "PK\r\n\n"
      }
     ],
     "prompt_number": 2
    },
    {
     "cell_type": "code",
     "collapsed": false,
     "input": "",
     "language": "python",
     "metadata": {},
     "outputs": []
    }
   ],
   "metadata": {}
  }
 ]
}